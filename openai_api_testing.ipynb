{
 "cells": [
  {
   "cell_type": "code",
   "execution_count": 2,
   "metadata": {},
   "outputs": [
    {
     "name": "stdout",
     "output_type": "stream",
     "text": [
      "{\n",
      "  \"role\": \"assistant\",\n",
      "  \"content\": \"In the realm of code, a concept profound,\\nLies the mystic world where recursion's found.\\nA dance of patterns, both subtle and sublime,\\nEchoing echoes, a rhythm quite divine.\\n\\nLike a Russian doll, nested layers unfold,\\nUnveiling secrets yet to be retold.\\nA function calls itself, a loop so grand,\\nUnraveling problems, hand in hand.\\n\\nWith each iteration, a tale is spun,\\nPeeling the layers, one-by-one.\\nA whisper of logic, a leap of faith,\\nUnraveling problems, without a wraith.\\n\\nThrough twilight's realm, recursive spirits roam,\\nGuiding programs, through endless unknown.\\nDeceivingly simple, yet a puzzle profound,\\nSolutions aplenty, waiting to be found.\\n\\nLike fractal art, repeating patterns emerge,\\nSolving complexities, creativity's surge.\\nEach recursion, a journey anew,\\nAs the code emerges, full of breakthroughs.\\n\\nA labyrinth of calls, a dance of trust,\\nA harmony of functions, never to rust.\\nInfinite in nature, yet finite in sight,\\nRecursion dances, in everlasting light.\\n\\nSo embrace the magic, let it intertwine,\\nLet recursion's rhythm forever align,\\nWith each line of code, let beauty weave,\\nAnd watch as your programs gracefully achieve.\"\n",
      "}\n"
     ]
    }
   ],
   "source": [
    "import os\n",
    "import openai\n",
    "openai.api_key = os.getenv(\"OPENAI_API_KEY\")\n",
    "\n",
    "completion = openai.ChatCompletion.create(\n",
    "  model=\"gpt-3.5-turbo\",\n",
    "  messages=[\n",
    "    {\"role\": \"system\", \"content\": \"You are a poetic assistant, skilled in explaining complex programming concepts with creative flair.\"},\n",
    "    {\"role\": \"user\", \"content\": \"Compose a poem that explains the concept of recursion in programming.\"}\n",
    "  ]\n",
    ")\n",
    "\n",
    "print(completion.choices[0].message)"
   ]
  },
  {
   "cell_type": "code",
   "execution_count": 3,
   "metadata": {},
   "outputs": [],
   "source": [
    "def get_completion_from_messages(messages, model='gpt-3.5-turbo', temperature=0, max_tokens=500):\n",
    " response = openai.ChatCompletion.create(\n",
    "   model=model,\n",
    "   messages=messages,\n",
    "   temperature=temperature, \n",
    "   max_tokens=max_tokens,\n",
    " )\n",
    " return response.choices[0].message['content']"
   ]
  },
  {
   "cell_type": "code",
   "execution_count": 32,
   "metadata": {},
   "outputs": [],
   "source": [
    "delimiter = \"####\"\n",
    "system_message = f\"\"\"\n",
    "You will be provided with technical skills \\\n",
    "The skills will be delimited with \\\n",
    "{delimiter} characters.\n",
    "Classify each skill as open source, proprietary or neither \\\n",
    "Also add your confidence level, and your comment on the use of the software to the answer \\\n",
    "Provide your output in json format with the \\\n",
    "keys: skill type, confidence, comment.\n",
    "\"\"\""
   ]
  },
  {
   "cell_type": "code",
   "execution_count": 35,
   "metadata": {},
   "outputs": [
    {
     "name": "stdout",
     "output_type": "stream",
     "text": [
      "{\n",
      "  \"skill type\": \"proprietary\",\n",
      "  \"confidence\": \"high\",\n",
      "  \"comment\": \"Wix is a proprietary website builder platform. Next.js is an open-source framework for building server-side rendered React applications.\"\n",
      "}\n"
     ]
    }
   ],
   "source": [
    "user_message = f\"\"\"\\\n",
    "wix\"\"\"+delimiter+\"next.js\"\n",
    "messages =  [  \n",
    "{'role':'system', \n",
    " 'content': system_message},    \n",
    "{'role':'user', \n",
    " 'content': f\"{delimiter}{user_message}{delimiter}\"},  \n",
    "] \n",
    "response = get_completion_from_messages(messages)\n",
    "print(response)"
   ]
  },
  {
   "cell_type": "code",
   "execution_count": 36,
   "metadata": {},
   "outputs": [
    {
     "data": {
      "text/plain": [
       "'wix####next.js'"
      ]
     },
     "execution_count": 36,
     "metadata": {},
     "output_type": "execute_result"
    }
   ],
   "source": [
    "user_message"
   ]
  },
  {
   "cell_type": "code",
   "execution_count": null,
   "metadata": {},
   "outputs": [],
   "source": []
  },
  {
   "cell_type": "code",
   "execution_count": null,
   "metadata": {},
   "outputs": [],
   "source": []
  }
 ],
 "metadata": {
  "kernelspec": {
   "display_name": "Python 3.9.5 64-bit",
   "language": "python",
   "name": "python3"
  },
  "language_info": {
   "codemirror_mode": {
    "name": "ipython",
    "version": 3
   },
   "file_extension": ".py",
   "mimetype": "text/x-python",
   "name": "python",
   "nbconvert_exporter": "python",
   "pygments_lexer": "ipython3",
   "version": "3.9.5"
  },
  "orig_nbformat": 4,
  "vscode": {
   "interpreter": {
    "hash": "aee8b7b246df8f9039afb4144a1f6fd8d2ca17a180786b69acc140d282b71a49"
   }
  }
 },
 "nbformat": 4,
 "nbformat_minor": 2
}
